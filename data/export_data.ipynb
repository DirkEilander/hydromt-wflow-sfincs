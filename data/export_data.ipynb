{
 "cells": [
  {
   "cell_type": "code",
   "execution_count": 2,
   "metadata": {},
   "outputs": [],
   "source": [
    "# this notebook exports data from the deltares data archive\n",
    "import hydromt"
   ]
  },
  {
   "cell_type": "code",
   "execution_count": 3,
   "metadata": {},
   "outputs": [],
   "source": [
    "# NOTE that one needs to be connected to deltares network to access this data\n",
    "# we are working on making much of this data as possible available / \n",
    "# provide scripts to donwload the data from its original source\n",
    "\n",
    "cat = hydromt.DataCatalog('deltares_data')"
   ]
  },
  {
   "cell_type": "code",
   "execution_count": 4,
   "metadata": {},
   "outputs": [],
   "source": [
    "# data[variables] required for wflow\n",
    "data_wflow = [\n",
    "    'merit_hydro_ihu[flwdir,uparea,elevtn,strord,rivlen,rivslp,basins]',\n",
    "    'merit_hydro_ihu_index',\n",
    "    'rivers_lin2019_v1',\n",
    "    'hydro_reservoirs',\n",
    "    'hydro_lakes',\n",
    "    'rgi',\n",
    "    'globcover',\n",
    "    'vito',\n",
    "    'modis_lai',\n",
    "    'soilgrids',\n",
    "    'grdc',\n",
    "    'era5_daily_zarr[precip,temp,press_msl,kin,kout]',\n",
    "    'era5_orography',\n",
    "    'chirps'\n",
    "]\n",
    "\n",
    "cat.export_data(\n",
    "    data_root=r'wflow_data',\n",
    "    bbox = [32.35, -20.95, 35.0, -17.50],\n",
    "    time_tuple=('20170901', '20190331'),\n",
    "    source_names=data_wflow,\n",
    "    unit_conversion=False,\n",
    ")"
   ]
  },
  {
   "cell_type": "code",
   "execution_count": 4,
   "metadata": {},
   "outputs": [],
   "source": [
    "# data[variables] required for sfincs\n",
    "\n",
    "data_sfincs = [\n",
    "    'fabdem',\n",
    "    'merit_hydro[elevtn,rivwth,flwdir,uparea]',\n",
    "    # 'grwl_mask',\n",
    "    'gebco',    \n",
    "    'osm_coastlines',\n",
    "    'gcn250',\n",
    "    'dtu10mdt',\n",
    "    'vito',\n",
    "    'globcover',\n",
    "    'rivers_lin2019_v1',\n",
    "    'era5_hourly_zarr[precip]'\n",
    "]\n",
    "\n",
    "cat.export_data(\n",
    "    data_root=r'sfincs_data',\n",
    "    bbox = [34.33, -20.12, 34.95, -19.3],\n",
    "    time_tuple=('20190308', '20190331'),\n",
    "    source_names=data_sfincs,\n",
    "    unit_conversion=False,\n",
    ")"
   ]
  }
 ],
 "metadata": {
  "kernelspec": {
   "display_name": "hydromt",
   "language": "python",
   "name": "python3"
  },
  "language_info": {
   "codemirror_mode": {
    "name": "ipython",
    "version": 3
   },
   "file_extension": ".py",
   "mimetype": "text/x-python",
   "name": "python",
   "nbconvert_exporter": "python",
   "pygments_lexer": "ipython3",
   "version": "3.10.10"
  },
  "orig_nbformat": 4
 },
 "nbformat": 4,
 "nbformat_minor": 2
}
