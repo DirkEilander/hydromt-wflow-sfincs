{
 "cells": [
  {
   "cell_type": "code",
   "execution_count": 1,
   "metadata": {},
   "outputs": [],
   "source": [
    "import os\n",
    "os.environ['USE_PYGEOS'] = '0'\n",
    "from os.path import join, basename, isfile\n",
    "\n",
    "from hydromt_wflow import WflowModel\n",
    "from hydromt.config import configread\n",
    "from hydromt.log import setuplog\n",
    "from hydromt import DataCatalog\n",
    "import numpy as np\n",
    "import yaml\n",
    "\n",
    "root = r'../models/wflow'\n",
    "data_libs=[r'../data/wflow_data/data_catalog.yml']"
   ]
  },
  {
   "attachments": {},
   "cell_type": "markdown",
   "metadata": {},
   "source": [
    "## 1 prepare ERA5 and CHIRPS based forcing  "
   ]
  },
  {
   "cell_type": "code",
   "execution_count": 2,
   "metadata": {},
   "outputs": [
    {
     "data": {
      "text/html": [
       "<div>\n",
       "<style scoped>\n",
       "    .dataframe tbody tr th:only-of-type {\n",
       "        vertical-align: middle;\n",
       "    }\n",
       "\n",
       "    .dataframe tbody tr th {\n",
       "        vertical-align: top;\n",
       "    }\n",
       "\n",
       "    .dataframe thead th {\n",
       "        text-align: right;\n",
       "    }\n",
       "</style>\n",
       "<table border=\"1\" class=\"dataframe\">\n",
       "  <thead>\n",
       "    <tr style=\"text-align: right;\">\n",
       "      <th></th>\n",
       "      <th>category</th>\n",
       "      <th>paper_doi</th>\n",
       "      <th>paper_ref</th>\n",
       "      <th>source_url</th>\n",
       "      <th>source_version</th>\n",
       "      <th>notes</th>\n",
       "    </tr>\n",
       "  </thead>\n",
       "  <tbody>\n",
       "    <tr>\n",
       "      <th>era5_daily</th>\n",
       "      <td>meteo</td>\n",
       "      <td>10.1002/qj.3803</td>\n",
       "      <td>Hersbach et al. (2019)</td>\n",
       "      <td>https://doi.org/10.24381/cds.bd0915c6</td>\n",
       "      <td>ERA5 daily data on pressure levels</td>\n",
       "      <td>Extracted from Copernicus Climate Data Store; ...</td>\n",
       "    </tr>\n",
       "    <tr>\n",
       "      <th>era5_orography</th>\n",
       "      <td>meteo</td>\n",
       "      <td>10.1002/qj.3803</td>\n",
       "      <td>Hersbach et al. (2019)</td>\n",
       "      <td>https://doi.org/10.24381/cds.bd0915c6</td>\n",
       "      <td>NaN</td>\n",
       "      <td>Extracted from Copernicus Climate Data Store</td>\n",
       "    </tr>\n",
       "    <tr>\n",
       "      <th>chirps</th>\n",
       "      <td>meteo</td>\n",
       "      <td>10.1038/sdata.2015.66</td>\n",
       "      <td>Funk et al (2015)</td>\n",
       "      <td>https://www.chc.ucsb.edu/data/chirps</td>\n",
       "      <td>v2.0</td>\n",
       "      <td>NaN</td>\n",
       "    </tr>\n",
       "  </tbody>\n",
       "</table>\n",
       "</div>"
      ],
      "text/plain": [
       "               category              paper_doi               paper_ref  \\\n",
       "era5_daily        meteo        10.1002/qj.3803  Hersbach et al. (2019)   \n",
       "era5_orography    meteo        10.1002/qj.3803  Hersbach et al. (2019)   \n",
       "chirps            meteo  10.1038/sdata.2015.66       Funk et al (2015)   \n",
       "\n",
       "                                           source_url  \\\n",
       "era5_daily      https://doi.org/10.24381/cds.bd0915c6   \n",
       "era5_orography  https://doi.org/10.24381/cds.bd0915c6   \n",
       "chirps           https://www.chc.ucsb.edu/data/chirps   \n",
       "\n",
       "                                    source_version  \\\n",
       "era5_daily      ERA5 daily data on pressure levels   \n",
       "era5_orography                                 NaN   \n",
       "chirps                                        v2.0   \n",
       "\n",
       "                                                            notes  \n",
       "era5_daily      Extracted from Copernicus Climate Data Store; ...  \n",
       "era5_orography       Extracted from Copernicus Climate Data Store  \n",
       "chirps                                                        NaN  "
      ]
     },
     "execution_count": 2,
     "metadata": {},
     "output_type": "execute_result"
    }
   ],
   "source": [
    "# overview of data used for setting up the static SFINCS layers\n",
    "data_catalog = DataCatalog(data_libs)\n",
    "wf_data = ['era5_daily', 'era5_orography', 'chirps']\n",
    "data_cols = ['category', 'paper_doi', 'paper_ref', 'source_url', 'source_version','notes']\n",
    "data_catalog.to_dataframe().loc[wf_data, data_cols]"
   ]
  },
  {
   "cell_type": "code",
   "execution_count": 3,
   "metadata": {},
   "outputs": [
    {
     "name": "stdout",
     "output_type": "stream",
     "text": [
      "setup_config:\n",
      "  starttime: 2017-09-01 00:00:00\n",
      "  endtime: 2019-03-31 00:00:00\n",
      "  timestepsecs: 86400\n",
      "  input.path_forcing: inmaps-era5.nc\n",
      "  dir_output: run_era5\n",
      "setup_precip_forcing:\n",
      "  precip_fn: era5_daily\n",
      "setup_temp_pet_forcing:\n",
      "  temp_pet_fn: era5_daily\n",
      "  press_correction: true\n",
      "  temp_correction: true\n",
      "  dem_forcing_fn: era5_orography\n",
      "  pet_method: debruin\n",
      "  skip_pet: false\n",
      "write_forcing:\n",
      "  freq_out: AS\n",
      "write_config:\n",
      "  config_name: run_era5.toml\n",
      "\n"
     ]
    }
   ],
   "source": [
    "# configuration file\n",
    "wf_config = configread('wflow_update_forcing.yml')\n",
    "print(yaml.dump(wf_config, sort_keys=False))"
   ]
  },
  {
   "cell_type": "code",
   "execution_count": null,
   "metadata": {},
   "outputs": [],
   "source": [
    "# initialize WflowModel class model previously build model.  \n",
    "for forcing in ['era5_daily', 'chirps']:\n",
    "    wf = WflowModel(\n",
    "        root = root,\n",
    "        mode='r+', # open in append mode\n",
    "        data_libs=data_libs, # link to data catalog\n",
    "        logger=setuplog('wflow'), \n",
    "    )\n",
    "    # remove default gridded ouput, we are only interested in the point output\n",
    "    wf.config.pop('output', None)\n",
    "    # update confing based on forcing\n",
    "    name = forcing.split('_')[0]\n",
    "    wf_config['setup_config'].update({'input.path_forcing': f'inmaps-{name}.nc', 'dir_output': f'run_{name}'})\n",
    "    wf_config['setup_precip_forcing'].update({'precip_fn': forcing})\n",
    "    wf_config['write_config'].update({'config_name': f'run_{name}.toml'})\n",
    "    # TODO: this is a bit hacky, we should \n",
    "    # remove any write_config methods inside other WflowModel methods\n",
    "    # always execute write_config last\n",
    "    wf._config_fn = wf_config['write_config']['config_name']\n",
    "    \n",
    "    # prepare and write forcing\n",
    "    wf.update(opt=wf_config)"
   ]
  },
  {
   "attachments": {},
   "cell_type": "markdown",
   "metadata": {},
   "source": [
    "## 2 Define and run model simulations"
   ]
  },
  {
   "attachments": {},
   "cell_type": "markdown",
   "metadata": {},
   "source": [
    "### 2A Define simulations"
   ]
  },
  {
   "cell_type": "code",
   "execution_count": 5,
   "metadata": {},
   "outputs": [
    {
     "name": "stderr",
     "output_type": "stream",
     "text": [
      "Model dir already exists and files might be overwritten: c:\\Users\\eilan_dk\\project_data\\hydromt-wflow-sfincs\\models\\wflow\\staticgeoms.\n"
     ]
    },
    {
     "name": "stdout",
     "output_type": "stream",
     "text": [
      "['run_chirps.toml', 'run_era5.toml', 'run_chirps_vito.toml', 'run_era5_vito.toml']\n"
     ]
    }
   ],
   "source": [
    "import datetime\n",
    "# combine era5 and chirps precip forcing with different landuse base maps\n",
    "# each run requires a different toml file\n",
    "\n",
    "runs = ['run_chirps.toml', 'run_era5.toml', ]\n",
    "\n",
    "for run in runs[:2]:\n",
    "    name = run.replace('.toml', '')\n",
    "    run2 = f'{name}_vito.toml'\n",
    "    wf = WflowModel(root, mode='r+', config_fn=run)\n",
    "    wf.read_config()\n",
    "    # wf.setup_config(**{'starttime': datetime.datetime(2019, 3, 1)}) # shorter test run\n",
    "    wf.setup_config(**{'starttime': datetime.datetime(2017, 9, 2)}) # full run\n",
    "    wf.write_config()\n",
    "    # run with vito landuse\n",
    "    wf.setup_config(**{\n",
    "        'input.path_static': 'staticmaps_vito.nc',\n",
    "        'dir_output': f'{name}_vito'\n",
    "    })\n",
    "    wf.write_config(run2)\n",
    "    runs.append(run2)\n",
    "\n",
    "print(runs)"
   ]
  },
  {
   "attachments": {},
   "cell_type": "markdown",
   "metadata": {},
   "source": [
    "### 2B run simulations"
   ]
  },
  {
   "attachments": {},
   "cell_type": "markdown",
   "metadata": {},
   "source": [
    "Wflow is an open source julia package and also provided as an compiled executable. Here we used the windows executable v0.6.3.\n",
    "Note that this is not included in the repository. Please visit the [\"How to Install\" section of the Wflow.jl docs](https://deltares.github.io/Wflow.jl/dev/user_guide/install/) for more info about how to get and install Wflow."
   ]
  },
  {
   "cell_type": "code",
   "execution_count": 6,
   "metadata": {},
   "outputs": [
    {
     "name": "stdout",
     "output_type": "stream",
     "text": [
      "run_chirps.toml\n",
      "run_era5.toml\n",
      "run_chirps_vito.toml\n",
      "run_era5_vito.toml\n"
     ]
    }
   ],
   "source": [
    "# this step can be skipped if you don't have the Wflow executable\n",
    "# the output is already in the repo\n",
    "# this should take approx ~10 min per simulation\n",
    "\n",
    "# uncomment to run the model\n",
    "import subprocess, os\n",
    "my_env = os.environ.copy()\n",
    "my_env['JULIA_NUM_THREADS'] = '2'\n",
    "exe = r'../bin/wflow_cli/bin/wflow_cli.exe'\n",
    "\n",
    "for run in runs:\n",
    "    print(run)\n",
    "    subprocess.run([exe, join(root, run)], check=True, env=my_env)"
   ]
  },
  {
   "cell_type": "markdown",
   "metadata": {},
   "source": [
    "### 2C create a data catalog yml file with all simulation results"
   ]
  },
  {
   "attachments": {},
   "cell_type": "markdown",
   "metadata": {},
   "source": [
    "In this step we create a data catalog with the csv output of all Wflow runs.\n",
    "This data catalog can be used by HydroMT-SFINCS to setup the discharge boundary conditions."
   ]
  },
  {
   "cell_type": "code",
   "execution_count": 7,
   "metadata": {},
   "outputs": [],
   "source": [
    "from copy import deepcopy\n",
    "# create/update a data catalog yml with all wflow output\n",
    "fn_wflow_data = join(root, 'wflow.yml')\n",
    "if isfile(fn_wflow_data):\n",
    "    with open(fn_wflow_data, 'r') as f:\n",
    "        wflow_yml = yaml.load(f, Loader=yaml.FullLoader)\n",
    "else:\n",
    "    wflow_yml = {}\n",
    "\n",
    "wf = WflowModel(root=root, mode='r')\n",
    "wf.read_staticgeoms()\n",
    "name = 'gauges_sfincs'\n",
    "\n",
    "rename = {f'Q_{i:d}': int(i) for i in wf.geoms[name]['index'].values}\n",
    "wflow_output = {\n",
    "    'data_type': 'DataFrame',\n",
    "    'driver': 'csv',\n",
    "    'kwargs': {'index_col': 0, 'parse_dates': True, 'usecols': ['time'] + list(rename.keys())},\n",
    "    'rename': rename,\n",
    "    'meta': {'category': 'discharge'}\n",
    "}\n",
    "\n",
    "for run in runs:\n",
    "    item0 = deepcopy(wflow_output)\n",
    "    wf = WflowModel(root=root, mode='r', config_fn=run)\n",
    "    item0['path'] = join(wf.config['dir_output'], wf.config['csv']['path'])\n",
    "    item0['meta'].update({'notes': f'Wflow model output at {name} for {basename(run)}'})\n",
    "    fn = f\"wflow_{basename(run).split('.')[0]}\"\n",
    "    wflow_yml[fn] = item0\n",
    "\n",
    "with open(fn_wflow_data, 'w') as f:\n",
    "    yaml.dump(wflow_yml, f, sort_keys=False)"
   ]
  },
  {
   "attachments": {},
   "cell_type": "markdown",
   "metadata": {},
   "source": [
    "##  3. Analyze results"
   ]
  },
  {
   "cell_type": "code",
   "execution_count": 8,
   "metadata": {},
   "outputs": [],
   "source": [
    "runs = ['run_chirps.toml', 'run_era5.toml', 'run_chirps_vito.toml', 'run_era5_vito.toml']"
   ]
  },
  {
   "cell_type": "code",
   "execution_count": 15,
   "metadata": {},
   "outputs": [],
   "source": [
    "# read results and precip\n",
    "q_out = {}\n",
    "precip = {}\n",
    "sfincs_gauge = 2\n",
    "for run in runs:\n",
    "    name = run.split('.')[0].replace('run_', '')\n",
    "    wf = WflowModel(root=root, config_fn=run, mode='r')\n",
    "    q_out[name] = wf.results['Q_gauges_sfincs'].sel(index=sfincs_gauge).squeeze()\n",
    "    if 'vito' not in name: # only single landuse required \n",
    "        # use subcatch mean precip from results\n",
    "        subcatch = wf.staticmaps['wflow_subcatch_sfincs'] == sfincs_gauge\n",
    "        precip[name] = wf.forcing['precip'].where(subcatch).mean(['lat', 'lon'])"
   ]
  },
  {
   "cell_type": "code",
   "execution_count": 16,
   "metadata": {},
   "outputs": [
    {
     "data": {
      "image/png": "[encoded data removed]",
      "text/plain": [
       "<Figure size 800x500 with 2 Axes>"
      ]
     },
     "metadata": {},
     "output_type": "display_data"
    }
   ],
   "source": [
    "import matplotlib.pyplot as plt\n",
    "import matplotlib.ticker as ticker\n",
    "import pandas as pd\n",
    "\n",
    "tslice = slice('2019-02-01', '2019-03-31')\n",
    "\n",
    "# merge precip data\n",
    "dfs = []\n",
    "for p in precip:\n",
    "    dfs.append(precip[p].sel(time=tslice).to_series().rename(p))\n",
    "df_precip = pd.concat(dfs, axis=1)\n",
    "\n",
    "\n",
    "# merge discharge data\n",
    "dfs = []\n",
    "for name in q_out:\n",
    "    dfs.append(q_out[name].sel(time=tslice).to_series().rename(name))\n",
    "df_discharge = pd.concat(dfs, axis=1)\n",
    "# make sure time axes align\n",
    "df_precip = df_precip.reindex(df_discharge.index, method='nearest')\n",
    "\n",
    "colors = plt.rcParams['axes.prop_cycle'].by_key()['color'][:2]\n",
    "\n",
    "fig, (ax, ax1) = plt.subplots(2,1, figsize=(8, 5), gridspec_kw={'height_ratios': [1, 2]})#, sharex=True)\n",
    "# plot precip\n",
    "df_precip.plot.bar(ax=ax, width=1, color=colors)\n",
    "ax.set_title('Wflow subcatchment mean precipitation')\n",
    "ax.set_ylabel('Precipitation\\n[mm/day]')\n",
    "ax.invert_yaxis()\n",
    "ax.legend(loc='lower left')\n",
    "\n",
    "# plot response\n",
    "df_discharge.iloc[:,:2].plot(ax=ax1, color=colors, ls='-')\n",
    "df_discharge.iloc[:,2:].plot(ax=ax1, color=colors, ls='--')\n",
    "ax1.set_title(f'Wflow discharge at gauge {sfincs_gauge}')\n",
    "ax1.set_ylim([0, df_discharge.max().max()*1.05])\n",
    "ax1.set_ylabel('Discharge\\n[m3/s]')\n",
    "ax1.legend(loc='upper left')\n",
    "\n",
    "# Make most of the ticklabels empty so the labels don't get too crowded\n",
    "index = df_discharge.index\n",
    "ticklabels = ['']*len(index)\n",
    "# Every 4th ticklable shows the month and day\n",
    "ticklabels[::5] = [item.strftime('%b %d') for item in index[::5]]\n",
    "# first ticklabel includes the year\n",
    "ticklabels[0] = index[0].strftime('%b %d\\n%Y')\n",
    "ax1.set_xticks(index)\n",
    "ax1.xaxis.set_major_formatter(ticker.FixedFormatter(ticklabels))\n",
    "plt.minorticks_off()\n",
    "plt.gcf().autofmt_xdate()\n",
    "fig.savefig(join(root, f'wflow_sim_guage{sfincs_gauge}.png'), dpi=450, bbox_inches='tight')"
   ]
  },
  {
   "cell_type": "code",
   "execution_count": null,
   "metadata": {},
   "outputs": [],
   "source": []
  }
 ],
 "metadata": {
  "kernelspec": {
   "display_name": "hydromt-dev",
   "language": "python",
   "name": "python3"
  },
  "language_info": {
   "codemirror_mode": {
    "name": "ipython",
    "version": 3
   },
   "file_extension": ".py",
   "mimetype": "text/x-python",
   "name": "python",
   "nbconvert_exporter": "python",
   "pygments_lexer": "ipython3",
   "version": "3.10.9"
  },
  "orig_nbformat": 4
 },
 "nbformat": 4,
 "nbformat_minor": 2
}
