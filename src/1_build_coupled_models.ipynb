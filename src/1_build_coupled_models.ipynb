{
 "cells": [
  {
   "cell_type": "code",
   "execution_count": null,
   "metadata": {},
   "outputs": [],
   "source": [
    "from os.path import join\n",
    "\n",
    "from hydromt_wflow import WflowModel\n",
    "from hydromt_sfincs import SfincsModel\n",
    "from hydromt.config import configread\n",
    "from hydromt.log import setuplog\n",
    "import yaml\n",
    "\n",
    "# output dir and area of interest\n",
    "bbox = [34.4, -20.05, 34.93, -19.45]"
   ]
  },
  {
   "attachments": {},
   "cell_type": "markdown",
   "metadata": {},
   "source": [
    "## Introduction\n",
    "\n",
    "In this notebook we build a coupled Wflow - Sfincs model in two steps.\n",
    "\n",
    "1. We setup the SFINCS model and automatically determine the locations where rivers flow into the model domain.  \n",
    "2. We setup a Wflow model containing the catchments of the rivers flowing into the SFINCS model and add model output locations matching the SFINCS discharge boundary locations.\n",
    "\n",
    "The models are build from global data sets which are shown below for both models."
   ]
  },
  {
   "attachments": {},
   "cell_type": "markdown",
   "metadata": {},
   "source": [
    "## 1. Build SFINCS model"
   ]
  },
  {
   "cell_type": "code",
   "execution_count": null,
   "metadata": {},
   "outputs": [],
   "source": [
    "# initialize SfincsModel class \n",
    "sf = SfincsModel(\n",
    "    root=r'../models/sfincs', # output dir\n",
    "    mode='w+', # open in (over)write mode\n",
    "    data_libs=[r'../data/sfincs_data/data_catalog.yml'],  # link to data catalog\n",
    "    logger=setuplog('sfincs'), \n",
    ")"
   ]
  },
  {
   "cell_type": "code",
   "execution_count": null,
   "metadata": {},
   "outputs": [],
   "source": [
    "# overview of data used for setting up the static SFINCS layers\n",
    "sf_data = ['fabdem', 'merit_hydro', 'vito']\n",
    "data_cols = ['category', 'paper_doi', 'paper_ref', 'source_url', 'source_version','source_license','notes']\n",
    "sf.data_catalog.to_dataframe().loc[sf_data, data_cols]"
   ]
  },
  {
   "cell_type": "code",
   "execution_count": null,
   "metadata": {},
   "outputs": [],
   "source": [
    "# inspect model building process\n",
    "sf_config = configread('sfincs_build.yml')\n",
    "print(sf_config.keys())"
   ]
  },
  {
   "cell_type": "code",
   "execution_count": null,
   "metadata": {},
   "outputs": [],
   "source": [
    "sf.build(opt=sf_config,region={'bbox': bbox})"
   ]
  },
  {
   "attachments": {},
   "cell_type": "markdown",
   "metadata": {},
   "source": [
    "NOTE that the steps above can also be done from the command line interface with\n",
    "\n",
    "```\n",
    "hydromt build sfincs ../models/sfincs -i sfincs_build.yml -r \"{'bbox': [34.4,-20.05,34.93,-19.45]}\" -d ../data/sfincs_data/data_catalog.yml -v --fo\n",
    "```"
   ]
  },
  {
   "cell_type": "code",
   "execution_count": null,
   "metadata": {},
   "outputs": [],
   "source": [
    "# plot the SFINCS dep map and boundaries \n",
    "sf.grid['dep'].attrs.update(long_name=\"elevation\", units=\"m\")\n",
    "fig, ax = sf.plot_basemap(figsize=(8,6))\n",
    "fig.savefig(join(sf.root, 'sfincs_basemap.png'), dpi=450)"
   ]
  },
  {
   "cell_type": "markdown",
   "metadata": {},
   "source": [
    "## 2. Build Wflow model"
   ]
  },
  {
   "cell_type": "code",
   "execution_count": null,
   "metadata": {},
   "outputs": [],
   "source": [
    "# initialize WflowModel class model\n",
    "wf = WflowModel(\n",
    "    root = r'../models/wflow', # output dir\n",
    "    mode='w+', # open in (over)write mode\n",
    "    data_libs=[r'../data/wflow_data/data_catalog.yml'], # link to data catalog\n",
    "    logger=setuplog('wflow'), \n",
    ")"
   ]
  },
  {
   "cell_type": "code",
   "execution_count": null,
   "metadata": {},
   "outputs": [],
   "source": [
    "# overview of data used for setting up the static SFINCS layers\n",
    "wf_data = ['merit_hydro_ihu', 'merit_hydro_ihu_index', 'rivers_lin2019_v1', 'hydro_reservoirs', 'hydro_lakes', 'soilgrids', 'modis_lai', 'globcover', 'vito']\n",
    "wf.data_catalog.to_dataframe().loc[wf_data, data_cols]"
   ]
  },
  {
   "attachments": {},
   "cell_type": "markdown",
   "metadata": {},
   "source": [
    "### 2A Build base model"
   ]
  },
  {
   "cell_type": "code",
   "execution_count": null,
   "metadata": {},
   "outputs": [],
   "source": [
    "# read config file with step how to build the model\n",
    "wf_config = configread('wflow_build.yml')\n",
    "print(wf_config.keys())"
   ]
  },
  {
   "cell_type": "code",
   "execution_count": null,
   "metadata": {},
   "outputs": [],
   "source": [
    "# we add a setup gauges step to get output at the Sfincs model inflow locations\n",
    "wf_config['setup_gauges'] = {\n",
    "    'gauges_fn': join(sf.root, 'gis', 'src.geojson'),\n",
    "    'snap_uparea': True, \n",
    "    'index_col': 'index',\n",
    "    'basename': 'sfincs',\n",
    "    'gauge_toml_header': ['Q'],  # save discharge only on these locations\n",
    "    'gauge_toml_param': ['lateral.river.q_av'],\n",
    "    'derive_subcatch': True,\n",
    "}"
   ]
  },
  {
   "cell_type": "code",
   "execution_count": null,
   "metadata": {},
   "outputs": [],
   "source": [
    "# outlets: True to get rivers that have an oulet whithin the bbox (only for coastal regions)\n",
    "wf.build(opt=wf_config,region={'basin': bbox, 'outlets': True})\n",
    "\n",
    "# alternatively, you can provide a GeoDataFrame (or vector file) with the outlet locations to derive subbasins\n",
    "# the uparea argument is added to snap the outlet locations to nearest downstream river\n",
    "# gdf_src = sf.forcing['dis'].vector.to_gdf()\n",
    "# region={'subbasin': gdf_src, 'uparea': gdf_src['uparea'].values.min()}"
   ]
  },
  {
   "attachments": {},
   "cell_type": "markdown",
   "metadata": {},
   "source": [
    "### 2B update static model layers based on different landuse"
   ]
  },
  {
   "cell_type": "code",
   "execution_count": null,
   "metadata": {},
   "outputs": [],
   "source": [
    "# update model with different landuse for a sensitivity analysis8\n",
    "\n",
    "wf.setup_lulcmaps(\n",
    "    lulc_fn='vito'\n",
    ")\n",
    "wf.setup_config(**{'input.path_static': 'staticmaps_vito.nc'})\n",
    "wf.write_staticmaps()"
   ]
  },
  {
   "attachments": {},
   "cell_type": "markdown",
   "metadata": {},
   "source": [
    "### 2C plot model base maps"
   ]
  },
  {
   "cell_type": "code",
   "execution_count": null,
   "metadata": {},
   "outputs": [],
   "source": [
    "from wflow_utils import plot_basemap\n",
    "# plot the wflow model\n",
    "fig, ax = plot_basemap(wf, figsize=(8,6))\n",
    "sf.grid.raster.box.to_crs(wf.crs).boundary.plot(ax=ax, color='r', lw=1, ls='--', label='SFINCS domain')\n",
    "fig.savefig(join(wf.root, 'wflow_basemap.png'), dpi=450)"
   ]
  }
 ],
 "metadata": {
  "kernelspec": {
   "display_name": "hydromt",
   "language": "python",
   "name": "python3"
  },
  "language_info": {
   "codemirror_mode": {
    "name": "ipython",
    "version": 3
   },
   "file_extension": ".py",
   "mimetype": "text/x-python",
   "name": "python",
   "nbconvert_exporter": "python",
   "pygments_lexer": "ipython3",
   "version": "3.10.9"
  },
  "orig_nbformat": 4
 },
 "nbformat": 4,
 "nbformat_minor": 2
}
